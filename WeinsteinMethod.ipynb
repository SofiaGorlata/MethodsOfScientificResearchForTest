{
 "cells": [
  {
   "cell_type": "code",
   "execution_count": 1,
   "metadata": {},
   "outputs": [],
   "source": [
    "import sys\n",
    "import numpy as np\n",
    "import math"
   ]
  },
  {
   "cell_type": "code",
   "execution_count": 2,
   "metadata": {},
   "outputs": [],
   "source": [
    "left = 0\n",
    "right = 2\n",
    "\n",
    "def function(x):\n",
    "    return -1 * ( 1 + x * x)*(1 + x * x)\n",
    "\n",
    "def get_discrete_function(function, left, right, n):\n",
    "    discrete_function = []\n",
    "    for i in range(1, n):\n",
    "        discrete_function.append(function(left + i * h))\n",
    "    return discrete_function"
   ]
  },
  {
   "cell_type": "code",
   "execution_count": 3,
   "metadata": {},
   "outputs": [],
   "source": [
    "def get_T(n):\n",
    "    T = np.zeros((n - 1, n - 1))\n",
    "    \n",
    "    T[0][0] = -2\n",
    "    T[0][1] = 1\n",
    "    \n",
    "    for row in range(1, n - 2):\n",
    "        T[row][row - 1] = T[row][row + 1] = 1\n",
    "        T[row][row] = -2\n",
    "        \n",
    "    T[n - 2][n - 3] = 1\n",
    "    T[n - 2][n - 2] = -2\n",
    "    \n",
    "    return T / h / h\n",
    "\n",
    "def get_A(n):\n",
    "    return np.multiply(get_T(n), np.asarray(get_discrete_function(function, left, right, n))).transpose()\n",
    "\n",
    "def get_B(n):\n",
    "    return get_T(n) * -1"
   ]
  },
  {
   "cell_type": "code",
   "execution_count": 4,
   "metadata": {},
   "outputs": [],
   "source": [
    "def get_fk(k, n):\n",
    "    if k == 0:\n",
    "        return np.ones(n - 1)\n",
    "    else:\n",
    "        fk = []\n",
    "        for i in range(1, n):\n",
    "            fk.append(math.pow(left + i * h, k))\n",
    "        return fk\n",
    "    \n",
    "def get_gk(C, fk):\n",
    "    return C.dot(fk)"
   ]
  },
  {
   "cell_type": "code",
   "execution_count": 5,
   "metadata": {},
   "outputs": [],
   "source": [
    "def get_Cm(C):\n",
    "    fk_arr = []\n",
    "    for k in range(0, m):\n",
    "        fk = get_fk(k, n)\n",
    "        #print('f' + str(k + 1) + ' = ' + str(fk))\n",
    "        fk_arr.append(fk)\n",
    "    \n",
    "    #print ('-' * 90)\n",
    "    \n",
    "    gk_arr = []\n",
    "    for k in range(0, m):\n",
    "        gk = get_gk(C, fk_arr[k])\n",
    "        #print('g' + str(k + 1) + ' = ' + str(gk))\n",
    "        gk_arr.append(gk)\n",
    "    \n",
    "    #print ('-' * 90)\n",
    "    \n",
    "    f = lambda i: np.matrix(np.linspace(0, 1, n)[1:]**i).T\n",
    "\n",
    "    bij = np.zeros((m, m))\n",
    "    for i in range(m):\n",
    "        for j in range(m):\n",
    "            bij[i][j] += np.sum(fk_arr[j] * gk_arr[i])\n",
    "    bij = np.linalg.inv(bij)\n",
    "\n",
    "    Cm = np.zeros((n - 1, n - 1))\n",
    "    for i in range(m):\n",
    "        gi = gk_arr[i].copy()\n",
    "        gi.shape = (n - 1, 1)\n",
    "        for j in range(m):\n",
    "            Cm += (bij[i][j] * gi) * gk_arr[j]\n",
    "    \n",
    "    return Cm"
   ]
  },
  {
   "cell_type": "code",
   "execution_count": 6,
   "metadata": {},
   "outputs": [],
   "source": [
    "def run(B, C, n):\n",
    "    Cm = get_Cm(C)\n",
    "    \n",
    "    Am = B + Cm\n",
    "    \n",
    "    eigvals = np.linalg.eigvals(Am)\n",
    "    return min([n for n in eigvals  if n>0])"
   ]
  },
  {
   "cell_type": "code",
   "execution_count": 7,
   "metadata": {},
   "outputs": [
    {
     "name": "stdout",
     "output_type": "stream",
     "text": [
      "m = 10\n",
      "lambda1 = 6.992931157704291\n",
      "******************************************************************************************\n"
     ]
    }
   ],
   "source": [
    "deviation = 0.001\n",
    "\n",
    "n = 100\n",
    "h = (right - left) / (n - 1)\n",
    "\n",
    "m = 10\n",
    "m_max = 11\n",
    "\n",
    "A = get_A(n)\n",
    "B = get_B(n)\n",
    "C = A - B\n",
    "#print('C = ')\n",
    "#print(C)\n",
    "\n",
    "lambda1_prev = float(\"inf\")\n",
    "for i in range(m, m_max):\n",
    "    print('m = ' + str(m))\n",
    "    lambda1 = run(B, C, n)\n",
    "    print('lambda1 = ' + str(lambda1))\n",
    "    if abs(lambda1 - lambda1_prev) < deviation:\n",
    "        break;\n",
    "    lambda1_prev = lambda1\n",
    "    m = m + 5\n",
    "    print('*' * 90)"
   ]
  },
  {
   "cell_type": "code",
   "execution_count": null,
   "metadata": {},
   "outputs": [],
   "source": []
  },
  {
   "cell_type": "code",
   "execution_count": null,
   "metadata": {},
   "outputs": [],
   "source": []
  },
  {
   "cell_type": "code",
   "execution_count": null,
   "metadata": {},
   "outputs": [],
   "source": []
  }
 ],
 "metadata": {
  "kernelspec": {
   "display_name": "Python 3",
   "language": "python",
   "name": "python3"
  },
  "language_info": {
   "codemirror_mode": {
    "name": "ipython",
    "version": 3
   },
   "file_extension": ".py",
   "mimetype": "text/x-python",
   "name": "python",
   "nbconvert_exporter": "python",
   "pygments_lexer": "ipython3",
   "version": "3.7.4"
  }
 },
 "nbformat": 4,
 "nbformat_minor": 2
}
